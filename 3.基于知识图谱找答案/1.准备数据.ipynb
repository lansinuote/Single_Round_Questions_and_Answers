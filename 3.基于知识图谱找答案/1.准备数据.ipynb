{
 "cells": [
  {
   "cell_type": "code",
   "execution_count": 1,
   "id": "25544cca",
   "metadata": {},
   "outputs": [
    {
     "data": {
      "text/plain": [
       "\"\\n#运行\\ndocker run --name neo4j -d -p 7474:7474 -p 7687:7687 -v /root/gx:/root/gx neo4j\\n\\n#访问\\nhttp://192.168.56.122:7474\\nneo4j/neo4j\\n\\n#复制文件到neo4j指定路径下\\n#注意后面的路径是docker内的路径\\ncp -a data /var/lib/neo4j/import/\\n\\n#清空数据\\nMATCH(i:Genre) DETACH DELETE i;\\nMATCH(i:Person) DETACH DELETE i;\\nMATCH(i:Movie) DETACH DELETE i;\\n\\n#导入电影类型\\nLOAD CSV WITH HEADERS FROM\\n'file:///data/genre.csv'\\nAS line\\nMERGE (p:Genre{\\n\\tgid:toInteger(line.gid),\\n\\tname:line.gname\\n});\\n\\n#导入演员\\nLOAD CSV WITH HEADERS FROM\\n'file:///data/person.csv'\\nAS line\\nMERGE (p:Person{\\n\\tpid:toInteger(line.pid),\\n\\tbirth:line.birth,\\n\\tdeath:line.death,\\n\\tname:line.name,\\n\\tbiography:line.biography,\\n\\tbirthplace:line.birthplace\\n});\\n\\n#导入电影\\nLOAD CSV WITH HEADERS FROM\\n'file:///data/movie.csv'\\nAS line\\nMERGE (p:Movie{\\n\\tmid:toInteger(line.mid),\\n\\ttitle:line.title,\\n\\tintroduction:line.introduction,\\n\\trating:toFloat(line.rating),\\n\\treleasedate:line.releasedate\\n});\\n\\n#导入参演\\nLOAD CSV WITH HEADERS FROM\\n'file:///data/person_to_movie.csv'\\nAS line\\nMATCH (from:Person{pid:toInteger(line.pid)}),(to:Movie{mid:toInteger(line.mid)})\\nMERGE (from) - [r:actedin{pid:toInteger(line.pid),mid:toInteger(line.mid)}] -> (to);\\n\\n#导入电影所属类型\\nLOAD CSV WITH HEADERS FROM\\n'file:///data/movie_to_genre.csv'\\nAS line\\nMATCH (from:Movie{mid:toInteger(line.mid)}),(to:Genre{gid:toInteger(line.gid)})\\nMERGE (from) - [r:is{mid:toInteger(line.mid),gid:toInteger(line.gid)}] -> (to);\""
      ]
     },
     "execution_count": 1,
     "metadata": {},
     "output_type": "execute_result"
    }
   ],
   "source": [
    "\"\"\"\n",
    "#运行\n",
    "docker run --name neo4j -d -p 7474:7474 -p 7687:7687 -v /root/gx:/root/gx neo4j\n",
    "\n",
    "#访问\n",
    "http://192.168.56.122:7474\n",
    "neo4j/neo4j\n",
    "\n",
    "#复制文件到neo4j指定路径下\n",
    "#注意后面的路径是docker内的路径\n",
    "cp -a data /var/lib/neo4j/import/\n",
    "\n",
    "#清空数据\n",
    "MATCH(i:Genre) DETACH DELETE i;\n",
    "MATCH(i:Person) DETACH DELETE i;\n",
    "MATCH(i:Movie) DETACH DELETE i;\n",
    "\n",
    "#导入电影类型\n",
    "LOAD CSV WITH HEADERS FROM\n",
    "'file:///data/genre.csv'\n",
    "AS line\n",
    "MERGE (p:Genre{\n",
    "\tgid:toInteger(line.gid),\n",
    "\tname:line.gname\n",
    "});\n",
    "\n",
    "#导入演员\n",
    "LOAD CSV WITH HEADERS FROM\n",
    "'file:///data/person.csv'\n",
    "AS line\n",
    "MERGE (p:Person{\n",
    "\tpid:toInteger(line.pid),\n",
    "\tbirth:line.birth,\n",
    "\tdeath:line.death,\n",
    "\tname:line.name,\n",
    "\tbiography:line.biography,\n",
    "\tbirthplace:line.birthplace\n",
    "});\n",
    "\n",
    "#导入电影\n",
    "LOAD CSV WITH HEADERS FROM\n",
    "'file:///data/movie.csv'\n",
    "AS line\n",
    "MERGE (p:Movie{\n",
    "\tmid:toInteger(line.mid),\n",
    "\ttitle:line.title,\n",
    "\tintroduction:line.introduction,\n",
    "\trating:toFloat(line.rating),\n",
    "\treleasedate:line.releasedate\n",
    "});\n",
    "\n",
    "#导入参演\n",
    "LOAD CSV WITH HEADERS FROM\n",
    "'file:///data/person_to_movie.csv'\n",
    "AS line\n",
    "MATCH (from:Person{pid:toInteger(line.pid)}),(to:Movie{mid:toInteger(line.mid)})\n",
    "MERGE (from) - [r:actedin{pid:toInteger(line.pid),mid:toInteger(line.mid)}] -> (to);\n",
    "\n",
    "#导入电影所属类型\n",
    "LOAD CSV WITH HEADERS FROM\n",
    "'file:///data/movie_to_genre.csv'\n",
    "AS line\n",
    "MATCH (from:Movie{mid:toInteger(line.mid)}),(to:Genre{gid:toInteger(line.gid)})\n",
    "MERGE (from) - [r:is{mid:toInteger(line.mid),gid:toInteger(line.gid)}] -> (to);\"\"\""
   ]
  },
  {
   "cell_type": "code",
   "execution_count": 2,
   "id": "25e891bd",
   "metadata": {},
   "outputs": [
    {
     "data": {
      "text/html": [
       "<table><tr><th>m.introduction</th></tr><tr><td style=\"text-align:left\">战国末期，赵国有三个名震天下的侠客，他们是：“长空”、“残剑”、“飞雪”。因为他们，秦王十年里没睡过一个安稳觉。可是他们却被一个默默无闻，名叫无名的秦国剑客所杀。消息传来，秦王振奋，急召无名上殿相见。在秦王的大殿里，神秘的烛火燃烧着，秦王与无名只有十步的距离，无名将击杀长空、残剑、飞雪的故事娓娓道来：他利用三人之间爱恨交织的关系，瓦解了他们的力量，各个击破，因此取胜。可秦王机智过人，听出了无名故事中的破绽，说出了另一个故事的**：残剑等三人是主动求败，献出生命，用苦肉计帮助无名上殿，无名才是真正最危险的刺客，而无名告诉秦王：他看错了一个人，那就是残剑。于是真正的故事从头叙起……最后，无名拿起了剑，此时他离秦王只有十步，他的绝技是“十步一杀”。</td></tr></table>"
      ],
      "text/plain": [
       " m.introduction                                                                                                                                                                                                                                                                                                                        \n",
       "---------------------------------------------------------------------------------------------------------------------------------------------------------------------------------------------------------------------------------------------------------------------------------------------------------------------------------------\n",
       " 战国末期，赵国有三个名震天下的侠客，他们是：“长空”、“残剑”、“飞雪”。因为他们，秦王十年里没睡过一个安稳觉。可是他们却被一个默默无闻，名叫无名的秦国剑客所杀。消息传来，秦王振奋，急召无名上殿相见。在秦王的大殿里，神秘的烛火燃烧着，秦王与无名只有十步的距离，无名将击杀长空、残剑、飞雪的故事娓娓道来：他利用三人之间爱恨交织的关系，瓦解了他们的力量，各个击破，因此取胜。可秦王机智过人，听出了无名故事中的破绽，说出了另一个故事的**：残剑等三人是主动求败，献出生命，用苦肉计帮助无名上殿，无名才是真正最危险的刺客，而无名告诉秦王：他看错了一个人，那就是残剑。于是真正的故事从头叙起……最后，无名拿起了剑，此时他离秦王只有十步，他的绝技是“十步一杀”。 "
      ]
     },
     "execution_count": 2,
     "metadata": {},
     "output_type": "execute_result"
    }
   ],
   "source": [
    "import py2neo\n",
    "\n",
    "#连接\n",
    "graph = py2neo.Graph('bolt://192.168.56.122:7687',\n",
    "                 name='neo4j',\n",
    "                 auth=('neo4j', '123123'))\n",
    "\n",
    "#查询\n",
    "sql = \"match (m:Movie) where m.title='英雄' return m.introduction\"\n",
    "graph.run(sql)"
   ]
  }
 ],
 "metadata": {
  "kernelspec": {
   "display_name": "Python 3 (ipykernel)",
   "language": "python",
   "name": "python3"
  },
  "language_info": {
   "codemirror_mode": {
    "name": "ipython",
    "version": 3
   },
   "file_extension": ".py",
   "mimetype": "text/x-python",
   "name": "python",
   "nbconvert_exporter": "python",
   "pygments_lexer": "ipython3",
   "version": "3.9.15"
  }
 },
 "nbformat": 4,
 "nbformat_minor": 5
}
