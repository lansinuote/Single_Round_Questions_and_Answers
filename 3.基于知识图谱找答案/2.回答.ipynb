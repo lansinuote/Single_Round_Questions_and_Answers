{
 "cells": [
  {
   "cell_type": "code",
   "execution_count": 1,
   "id": "e408e495",
   "metadata": {
    "scrolled": true
   },
   "outputs": [
    {
     "data": {
      "text/html": [
       "<div>\n",
       "<style scoped>\n",
       "    .dataframe tbody tr th:only-of-type {\n",
       "        vertical-align: middle;\n",
       "    }\n",
       "\n",
       "    .dataframe tbody tr th {\n",
       "        vertical-align: top;\n",
       "    }\n",
       "\n",
       "    .dataframe thead th {\n",
       "        text-align: right;\n",
       "    }\n",
       "</style>\n",
       "<table border=\"1\" class=\"dataframe\">\n",
       "  <thead>\n",
       "    <tr style=\"text-align: right;\">\n",
       "      <th></th>\n",
       "      <th>label</th>\n",
       "      <th>question</th>\n",
       "    </tr>\n",
       "  </thead>\n",
       "  <tbody>\n",
       "    <tr>\n",
       "      <th>0</th>\n",
       "      <td>3</td>\n",
       "      <td>nm的剧情是什么</td>\n",
       "    </tr>\n",
       "    <tr>\n",
       "      <th>1</th>\n",
       "      <td>3</td>\n",
       "      <td>nm主要讲什么内容</td>\n",
       "    </tr>\n",
       "    <tr>\n",
       "      <th>2</th>\n",
       "      <td>3</td>\n",
       "      <td>nm的主要剧情是什么</td>\n",
       "    </tr>\n",
       "    <tr>\n",
       "      <th>3</th>\n",
       "      <td>3</td>\n",
       "      <td>nm主要讲什么故事</td>\n",
       "    </tr>\n",
       "    <tr>\n",
       "      <th>4</th>\n",
       "      <td>3</td>\n",
       "      <td>nm的故事线索是什么</td>\n",
       "    </tr>\n",
       "    <tr>\n",
       "      <th>5</th>\n",
       "      <td>3</td>\n",
       "      <td>nm讲了什么</td>\n",
       "    </tr>\n",
       "    <tr>\n",
       "      <th>6</th>\n",
       "      <td>3</td>\n",
       "      <td>nm的剧情简介</td>\n",
       "    </tr>\n",
       "    <tr>\n",
       "      <th>7</th>\n",
       "      <td>3</td>\n",
       "      <td>nm的故事内容</td>\n",
       "    </tr>\n",
       "    <tr>\n",
       "      <th>8</th>\n",
       "      <td>3</td>\n",
       "      <td>nm的主要情节</td>\n",
       "    </tr>\n",
       "    <tr>\n",
       "      <th>9</th>\n",
       "      <td>3</td>\n",
       "      <td>nm的情节梗概</td>\n",
       "    </tr>\n",
       "    <tr>\n",
       "      <th>10</th>\n",
       "      <td>3</td>\n",
       "      <td>nm的故事梗概</td>\n",
       "    </tr>\n",
       "    <tr>\n",
       "      <th>11</th>\n",
       "      <td>4</td>\n",
       "      <td>nm有哪些演员出演</td>\n",
       "    </tr>\n",
       "    <tr>\n",
       "      <th>12</th>\n",
       "      <td>4</td>\n",
       "      <td>nm是由哪些人演的</td>\n",
       "    </tr>\n",
       "    <tr>\n",
       "      <th>13</th>\n",
       "      <td>4</td>\n",
       "      <td>nm中参演的演员都有哪些</td>\n",
       "    </tr>\n",
       "    <tr>\n",
       "      <th>14</th>\n",
       "      <td>4</td>\n",
       "      <td>nm中哪些人演过</td>\n",
       "    </tr>\n",
       "    <tr>\n",
       "      <th>15</th>\n",
       "      <td>4</td>\n",
       "      <td>nm这部电影的演员都有哪些</td>\n",
       "    </tr>\n",
       "    <tr>\n",
       "      <th>16</th>\n",
       "      <td>4</td>\n",
       "      <td>nm这部电影中哪些人演过</td>\n",
       "    </tr>\n",
       "    <tr>\n",
       "      <th>17</th>\n",
       "      <td>5</td>\n",
       "      <td>nnt</td>\n",
       "    </tr>\n",
       "    <tr>\n",
       "      <th>18</th>\n",
       "      <td>5</td>\n",
       "      <td>nnt</td>\n",
       "    </tr>\n",
       "    <tr>\n",
       "      <th>19</th>\n",
       "      <td>5</td>\n",
       "      <td>nnt</td>\n",
       "    </tr>\n",
       "    <tr>\n",
       "      <th>20</th>\n",
       "      <td>5</td>\n",
       "      <td>nnt</td>\n",
       "    </tr>\n",
       "    <tr>\n",
       "      <th>21</th>\n",
       "      <td>5</td>\n",
       "      <td>nnt</td>\n",
       "    </tr>\n",
       "    <tr>\n",
       "      <th>22</th>\n",
       "      <td>5</td>\n",
       "      <td>nnt是</td>\n",
       "    </tr>\n",
       "    <tr>\n",
       "      <th>23</th>\n",
       "      <td>5</td>\n",
       "      <td>nnt是谁</td>\n",
       "    </tr>\n",
       "    <tr>\n",
       "      <th>24</th>\n",
       "      <td>5</td>\n",
       "      <td>nnt的介绍</td>\n",
       "    </tr>\n",
       "    <tr>\n",
       "      <th>25</th>\n",
       "      <td>5</td>\n",
       "      <td>nnt的简介</td>\n",
       "    </tr>\n",
       "    <tr>\n",
       "      <th>26</th>\n",
       "      <td>5</td>\n",
       "      <td>谁是nnt</td>\n",
       "    </tr>\n",
       "    <tr>\n",
       "      <th>27</th>\n",
       "      <td>5</td>\n",
       "      <td>nnt的详细信息</td>\n",
       "    </tr>\n",
       "    <tr>\n",
       "      <th>28</th>\n",
       "      <td>5</td>\n",
       "      <td>nnt的信息</td>\n",
       "    </tr>\n",
       "    <tr>\n",
       "      <th>29</th>\n",
       "      <td>7</td>\n",
       "      <td>nnt演了什么电影</td>\n",
       "    </tr>\n",
       "    <tr>\n",
       "      <th>30</th>\n",
       "      <td>7</td>\n",
       "      <td>nnt出演了什么电影</td>\n",
       "    </tr>\n",
       "    <tr>\n",
       "      <th>31</th>\n",
       "      <td>7</td>\n",
       "      <td>nnt演过什么电影</td>\n",
       "    </tr>\n",
       "    <tr>\n",
       "      <th>32</th>\n",
       "      <td>7</td>\n",
       "      <td>nnt演过哪些电影</td>\n",
       "    </tr>\n",
       "    <tr>\n",
       "      <th>33</th>\n",
       "      <td>7</td>\n",
       "      <td>nnt过去演过哪些电影</td>\n",
       "    </tr>\n",
       "    <tr>\n",
       "      <th>34</th>\n",
       "      <td>7</td>\n",
       "      <td>nnt以前演过哪些电影</td>\n",
       "    </tr>\n",
       "    <tr>\n",
       "      <th>35</th>\n",
       "      <td>7</td>\n",
       "      <td>nnt演过的电影有什么</td>\n",
       "    </tr>\n",
       "    <tr>\n",
       "      <th>36</th>\n",
       "      <td>7</td>\n",
       "      <td>nnt有哪些电影</td>\n",
       "    </tr>\n",
       "  </tbody>\n",
       "</table>\n",
       "</div>"
      ],
      "text/plain": [
       "    label       question\n",
       "0       3       nm的剧情是什么\n",
       "1       3      nm主要讲什么内容\n",
       "2       3     nm的主要剧情是什么\n",
       "3       3      nm主要讲什么故事\n",
       "4       3     nm的故事线索是什么\n",
       "5       3         nm讲了什么\n",
       "6       3        nm的剧情简介\n",
       "7       3        nm的故事内容\n",
       "8       3        nm的主要情节\n",
       "9       3        nm的情节梗概\n",
       "10      3        nm的故事梗概\n",
       "11      4      nm有哪些演员出演\n",
       "12      4      nm是由哪些人演的\n",
       "13      4   nm中参演的演员都有哪些\n",
       "14      4       nm中哪些人演过\n",
       "15      4  nm这部电影的演员都有哪些\n",
       "16      4   nm这部电影中哪些人演过\n",
       "17      5            nnt\n",
       "18      5            nnt\n",
       "19      5            nnt\n",
       "20      5            nnt\n",
       "21      5            nnt\n",
       "22      5           nnt是\n",
       "23      5          nnt是谁\n",
       "24      5         nnt的介绍\n",
       "25      5         nnt的简介\n",
       "26      5          谁是nnt\n",
       "27      5       nnt的详细信息\n",
       "28      5         nnt的信息\n",
       "29      7      nnt演了什么电影\n",
       "30      7     nnt出演了什么电影\n",
       "31      7      nnt演过什么电影\n",
       "32      7      nnt演过哪些电影\n",
       "33      7    nnt过去演过哪些电影\n",
       "34      7    nnt以前演过哪些电影\n",
       "35      7    nnt演过的电影有什么\n",
       "36      7       nnt有哪些电影"
      ]
     },
     "execution_count": 1,
     "metadata": {},
     "output_type": "execute_result"
    }
   ],
   "source": [
    "import pandas as pd\n",
    "\n",
    "#加载训练数据\n",
    "data = pd.read_csv('data/question.csv')\n",
    "\n",
    "#出于简单起见,只保留4个类型\n",
    "select = data['label'].isin([3, 4, 5, 7])\n",
    "data = data[select]\n",
    "\n",
    "#重置索引\n",
    "data = data.reset_index(drop=True)\n",
    "\n",
    "data"
   ]
  },
  {
   "cell_type": "code",
   "execution_count": 2,
   "id": "7cb4dc54",
   "metadata": {},
   "outputs": [
    {
     "name": "stderr",
     "output_type": "stream",
     "text": [
      "Building prefix dict from the default dictionary ...\n",
      "Loading model from cache /tmp/jieba.cache\n",
      "Loading model cost 0.644 seconds.\n",
      "Prefix dict has been built successfully.\n"
     ]
    },
    {
     "name": "stdout",
     "output_type": "stream",
     "text": [
      "features= (37, 27)\n"
     ]
    },
    {
     "data": {
      "text/plain": [
       "(TfidfVectorizer(), MultinomialNB(alpha=0.01))"
      ]
     },
     "execution_count": 2,
     "metadata": {},
     "output_type": "execute_result"
    }
   ],
   "source": [
    "from sklearn.naive_bayes import MultinomialNB\n",
    "from sklearn.feature_extraction.text import TfidfVectorizer\n",
    "import jieba\n",
    "\n",
    "\n",
    "def train():\n",
    "    #分词\n",
    "    question = [' '.join(jieba.lcut(i)) for i in data.question]\n",
    "\n",
    "    #通过TF IDF对文本数据进行向量化处理\n",
    "    model_feature = TfidfVectorizer()\n",
    "    features = model_feature.fit_transform(question).toarray()\n",
    "    print('features=', features.shape)\n",
    "\n",
    "    #贝叶斯分类器\n",
    "    model_class = MultinomialNB(alpha=0.01)\n",
    "    model_class.fit(features, data.label)\n",
    "\n",
    "    return model_feature, model_class\n",
    "\n",
    "\n",
    "model_feature, model_class = train()\n",
    "\n",
    "model_feature, model_class"
   ]
  },
  {
   "cell_type": "code",
   "execution_count": 3,
   "id": "29ea6a72",
   "metadata": {},
   "outputs": [
    {
     "data": {
      "text/plain": [
       "(['李连杰', '演', '过', '什么', '电影'], ['nr', 'v', 'ug', 'r', 'n'])"
      ]
     },
     "execution_count": 3,
     "metadata": {},
     "output_type": "execute_result"
    }
   ],
   "source": [
    "import jieba.posseg\n",
    "\n",
    "#导入词库\n",
    "jieba.load_userdict('data/userdict.txt')\n",
    "\n",
    "\n",
    "#分词+词性标注\n",
    "def parse_text(text):\n",
    "    text = {i.word: i.flag for i in jieba.posseg.cut(text)}\n",
    "\n",
    "    words = list(text.keys())\n",
    "    flags = list(text.values())\n",
    "\n",
    "    return words, flags\n",
    "\n",
    "\n",
    "words, flags = parse_text('李连杰演过什么电影')\n",
    "\n",
    "words, flags"
   ]
  },
  {
   "cell_type": "code",
   "execution_count": 4,
   "id": "fd91bc67",
   "metadata": {},
   "outputs": [
    {
     "data": {
      "text/plain": [
       "7"
      ]
     },
     "execution_count": 4,
     "metadata": {},
     "output_type": "execute_result"
    }
   ],
   "source": [
    "#分类一个问题\n",
    "def predict(words, flags):\n",
    "    #抽象问题中的名词\n",
    "    abstract_words = []\n",
    "    for i in range(len(words)):\n",
    "        if flags[i] in ['nr', 'nm', 'ng']:\n",
    "            abstract_words.append(flags[i])\n",
    "            continue\n",
    "        abstract_words.append(words[i])\n",
    "\n",
    "    abstract_words = ' '.join(abstract_words)\n",
    "\n",
    "    #问题分类\n",
    "    feature = model_feature.transform([abstract_words]).toarray()\n",
    "\n",
    "    return model_class.predict(feature)[0]\n",
    "\n",
    "\n",
    "predict(words, flags)"
   ]
  },
  {
   "cell_type": "code",
   "execution_count": 5,
   "id": "d774d9ca",
   "metadata": {},
   "outputs": [
    {
     "data": {
      "text/html": [
       "<table><tr><th>m.introduction</th></tr><tr><td style=\"text-align:left\">战国末期，赵国有三个名震天下的侠客，他们是：“长空”、“残剑”、“飞雪”。因为他们，秦王十年里没睡过一个安稳觉。可是他们却被一个默默无闻，名叫无名的秦国剑客所杀。消息传来，秦王振奋，急召无名上殿相见。在秦王的大殿里，神秘的烛火燃烧着，秦王与无名只有十步的距离，无名将击杀长空、残剑、飞雪的故事娓娓道来：他利用三人之间爱恨交织的关系，瓦解了他们的力量，各个击破，因此取胜。可秦王机智过人，听出了无名故事中的破绽，说出了另一个故事的**：残剑等三人是主动求败，献出生命，用苦肉计帮助无名上殿，无名才是真正最危险的刺客，而无名告诉秦王：他看错了一个人，那就是残剑。于是真正的故事从头叙起……最后，无名拿起了剑，此时他离秦王只有十步，他的绝技是“十步一杀”。</td></tr></table>"
      ],
      "text/plain": [
       " m.introduction                                                                                                                                                                                                                                                                                                                        \n",
       "---------------------------------------------------------------------------------------------------------------------------------------------------------------------------------------------------------------------------------------------------------------------------------------------------------------------------------------\n",
       " 战国末期，赵国有三个名震天下的侠客，他们是：“长空”、“残剑”、“飞雪”。因为他们，秦王十年里没睡过一个安稳觉。可是他们却被一个默默无闻，名叫无名的秦国剑客所杀。消息传来，秦王振奋，急召无名上殿相见。在秦王的大殿里，神秘的烛火燃烧着，秦王与无名只有十步的距离，无名将击杀长空、残剑、飞雪的故事娓娓道来：他利用三人之间爱恨交织的关系，瓦解了他们的力量，各个击破，因此取胜。可秦王机智过人，听出了无名故事中的破绽，说出了另一个故事的**：残剑等三人是主动求败，献出生命，用苦肉计帮助无名上殿，无名才是真正最危险的刺客，而无名告诉秦王：他看错了一个人，那就是残剑。于是真正的故事从头叙起……最后，无名拿起了剑，此时他离秦王只有十步，他的绝技是“十步一杀”。 "
      ]
     },
     "execution_count": 5,
     "metadata": {},
     "output_type": "execute_result"
    }
   ],
   "source": [
    "import py2neo\n",
    "\n",
    "#连接\n",
    "graph = py2neo.Graph('bolt://192.168.56.122:7687',\n",
    "                     name='neo4j',\n",
    "                     auth=('neo4j', '123123'))\n",
    "\n",
    "#查询\n",
    "cql = \"match (m:Movie) where m.title='英雄' return m.introduction\"\n",
    "graph.run(cql)"
   ]
  },
  {
   "cell_type": "code",
   "execution_count": 6,
   "id": "54607f63",
   "metadata": {},
   "outputs": [
    {
     "data": {
      "text/html": [
       "<table><tr><th>m.introduction</th></tr><tr><td style=\"text-align:left\">在抗战结束之后，各阶级、各党派、广大人民群众反战情绪高涨。于是，在民主爱国人士张澜等人的斡旋下，毛泽东（唐国强 饰）代表的共产党与蒋介石（张国立 饰）代表的国民党拉开了重庆谈判的序幕。为了表示诚意，共产党主动放弃了部分占领的解放区，然而，国民党却丝毫没有建立民主政府的意思，反而驱赶民主党派，逐渐走向了军政府独裁统治的灭亡之路。 期间，以毛泽东为首的共产党人通过建立广泛的爱国统一战线，获得了全中国人民群众的支持，为中国人民政治协商会议的召开奠定了扎实的基础，与此同时，垂死挣扎的国民党仍妄图借助阴谋暗杀等卑劣手段阻挠会议召开，一场为建立新中国的决战由此展开…… 本片汇集了史无前例的172位国内明星，开创了新时期主旋律题材的先河。</td></tr></table>"
      ],
      "text/plain": [
       " m.introduction                                                                                                                                                                                                                                                                                                               \n",
       "------------------------------------------------------------------------------------------------------------------------------------------------------------------------------------------------------------------------------------------------------------------------------------------------------------------------------\n",
       " 在抗战结束之后，各阶级、各党派、广大人民群众反战情绪高涨。于是，在民主爱国人士张澜等人的斡旋下，毛泽东（唐国强 饰）代表的共产党与蒋介石（张国立 饰）代表的国民党拉开了重庆谈判的序幕。为了表示诚意，共产党主动放弃了部分占领的解放区，然而，国民党却丝毫没有建立民主政府的意思，反而驱赶民主党派，逐渐走向了军政府独裁统治的灭亡之路。 期间，以毛泽东为首的共产党人通过建立广泛的爱国统一战线，获得了全中国人民群众的支持，为中国人民政治协商会议的召开奠定了扎实的基础，与此同时，垂死挣扎的国民党仍妄图借助阴谋暗杀等卑劣手段阻挠会议召开，一场为建立新中国的决战由此展开…… 本片汇集了史无前例的172位国内明星，开创了新时期主旋律题材的先河。 "
      ]
     },
     "execution_count": 6,
     "metadata": {},
     "output_type": "execute_result"
    }
   ],
   "source": [
    "# 3:nm 简介\n",
    "def get_answer_3(words, flags):\n",
    "    movie_name = words[flags.index('nm')]\n",
    "    cql = \"match(m:Movie) where m.title='%s' return m.introduction\" % movie_name\n",
    "    return graph.run(cql)\n",
    "\n",
    "\n",
    "words, flags = parse_text('建国大业是讲什么的')\n",
    "\n",
    "get_answer_3(words, flags)"
   ]
  },
  {
   "cell_type": "code",
   "execution_count": 7,
   "id": "8767938a",
   "metadata": {
    "scrolled": true
   },
   "outputs": [
    {
     "data": {
      "text/plain": [
       "['Jin Xin',\n",
       " '王宝强',\n",
       " '葛优',\n",
       " 'Chen Baoguo',\n",
       " '徐玟晴',\n",
       " '徐帆',\n",
       " '甄子丹',\n",
       " '郭晓冬',\n",
       " '梁朝伟',\n",
       " '陈建斌',\n",
       " '唐国强',\n",
       " 'You Liping',\n",
       " '刘烨',\n",
       " '刘德华',\n",
       " '宁静',\n",
       " '刘沙',\n",
       " '龚蓓苾',\n",
       " '苗圃',\n",
       " '成龙',\n",
       " 'Hong Chen',\n",
       " '梁家辉',\n",
       " '陈凯歌',\n",
       " 'Feng Yuanzheng',\n",
       " 'Jiang Wen',\n",
       " '刘仪伟',\n",
       " '邓超',\n",
       " '赵薇',\n",
       " '冯小刚',\n",
       " '陶泽如',\n",
       " '王学兵',\n",
       " '陈坤',\n",
       " '胡军',\n",
       " '周星驰',\n",
       " '黄晓明',\n",
       " '张涵予',\n",
       " '黄圣依',\n",
       " '孙红雷',\n",
       " '王伍福',\n",
       " '黎明',\n",
       " '刘劲',\n",
       " '李强',\n",
       " '佟大为',\n",
       " '邬君梅',\n",
       " '章子怡',\n",
       " '陈数',\n",
       " '吴宇森',\n",
       " 'Chen Dao-Ming',\n",
       " '李滨',\n",
       " '修宗迪',\n",
       " '杨晓丹',\n",
       " 'Donald Freeman',\n",
       " 'Wong Bing',\n",
       " '王学圻',\n",
       " '张国立',\n",
       " '吴刚',\n",
       " '刘仪伟',\n",
       " '李连杰',\n",
       " 'Wang Jian']"
      ]
     },
     "execution_count": 7,
     "metadata": {},
     "output_type": "execute_result"
    }
   ],
   "source": [
    "# 4:nm 演员列表\n",
    "def get_answer_4(words, flags):\n",
    "    movie_name = words[flags.index('nm')]\n",
    "    cql = \"match(n:Person)-[r:actedin]->(m:Movie) where m.title='%s' return n.name\" % movie_name\n",
    "    result = graph.run(cql)\n",
    "    return [i.get('n.name') for i in result]\n",
    "\n",
    "\n",
    "words, flags = parse_text('建国大业是谁演的')\n",
    "\n",
    "get_answer_4(words, flags)"
   ]
  },
  {
   "cell_type": "code",
   "execution_count": 8,
   "id": "f36afbe5",
   "metadata": {},
   "outputs": [
    {
     "data": {
      "text/html": [
       "<table><tr><th>n.biography</th></tr><tr><td style=\"text-align:left\">李连杰（Jet Li），1963年4月26日生于北京市，华语影视男演员、导演、制作人 、武术运动员、商人。1971年进入北京什刹海体校，从而开始武术运动员的生涯。1975年参加全运会武术套路比赛，获得全能冠军。1979年因伤退出武术界。1982年主演个人首部电影《少林寺》，该片打破华语电影在中国内地的票房纪录。1986年自导自演动作片《中华英雄》。1991年主演的动作片《黄飞鸿之壮志凌云》奠定其在影坛的地位。1992年凭借武侠片《笑傲江湖Ⅱ：东方不败》获得更多关注。1995年获得第32届台湾电影金马奖大陆人士特别奖 。1998年赴美国好莱坞发展，同年出演其在好莱坞的首部电影《致命武器4》。2001年担任动作片《变种元素》的制作人。2002年因主演武侠片《英雄》而成为美国《时代周刊》的封面人物 。2003年凭借动作片《宇宙追缉令》获得第12届MTV电影奖最佳打斗场面提名。2008年凭借动作片《投名状》获得第27届香港电影金像奖最佳男主角 。2009年成为中国企业家俱乐部会员。2010年入选美国《时代周刊》“年度最具影响力人物百人榜” 。2011年参与创办太极禅国际文化发展有限公司。2013年在《中华武术》三十年颁奖盛典中，获得“中华武术30年最具武术影响力人物奖”。2016年主演古装片《封神传奇》 。李连杰热心公益慈善。2007年创建公益组织壹基金。2009年担任世界卫生组织亲善大使。2010年担任国际红十字会亲善大使。2014年在《中国慈善家》“中国慈善名人榜”中排名第二位。</td></tr></table>"
      ],
      "text/plain": [
       " n.biography                                                                                                                                                                                                                                                                                                                                                                                                                                                                                                                                                                                                                                                              \n",
       "--------------------------------------------------------------------------------------------------------------------------------------------------------------------------------------------------------------------------------------------------------------------------------------------------------------------------------------------------------------------------------------------------------------------------------------------------------------------------------------------------------------------------------------------------------------------------------------------------------------------------------------------------------------------------\n",
       " 李连杰（Jet Li），1963年4月26日生于北京市，华语影视男演员、导演、制作人 、武术运动员、商人。1971年进入北京什刹海体校，从而开始武术运动员的生涯。1975年参加全运会武术套路比赛，获得全能冠军。1979年因伤退出武术界。1982年主演个人首部电影《少林寺》，该片打破华语电影在中国内地的票房纪录。1986年自导自演动作片《中华英雄》。1991年主演的动作片《黄飞鸿之壮志凌云》奠定其在影坛的地位。1992年凭借武侠片《笑傲江湖Ⅱ：东方不败》获得更多关注。1995年获得第32届台湾电影金马奖大陆人士特别奖 。1998年赴美国好莱坞发展，同年出演其在好莱坞的首部电影《致命武器4》。2001年担任动作片《变种元素》的制作人。2002年因主演武侠片《英雄》而成为美国《时代周刊》的封面人物 。2003年凭借动作片《宇宙追缉令》获得第12届MTV电影奖最佳打斗场面提名。2008年凭借动作片《投名状》获得第27届香港电影金像奖最佳男主角 。2009年成为中国企业家俱乐部会员。2010年入选美国《时代周刊》“年度最具影响力人物百人榜” 。2011年参与创办太极禅国际文化发展有限公司。2013年在《中华武术》三十年颁奖盛典中，获得“中华武术30年最具武术影响力人物奖”。2016年主演古装片《封神传奇》 。李连杰热心公益慈善。2007年创建公益组织壹基金。2009年担任世界卫生组织亲善大使。2010年担任国际红十字会亲善大使。2014年在《中国慈善家》“中国慈善名人榜”中排名第二位。 "
      ]
     },
     "execution_count": 8,
     "metadata": {},
     "output_type": "execute_result"
    }
   ],
   "source": [
    "# 5:nnt 介绍\n",
    "def get_answer_5(words, flags):\n",
    "    actor_name = words[flags.index('nr')]\n",
    "    cql = f\"match(n:Person) where n.name='%s' return n.biography\" % actor_name\n",
    "    return graph.run(cql)\n",
    "\n",
    "\n",
    "words, flags = parse_text('李连杰介绍')\n",
    "\n",
    "get_answer_5(words, flags)"
   ]
  },
  {
   "cell_type": "code",
   "execution_count": 9,
   "id": "9d282077",
   "metadata": {},
   "outputs": [
    {
     "data": {
      "text/plain": [
       "['黑侠',\n",
       " '投名状',\n",
       " 'Cause: The Birth of Hero',\n",
       " 'Sat sau ji wong',\n",
       " '黄飞鸿之三狮王争霸',\n",
       " '英雄',\n",
       " 'Zhong hua wu shu',\n",
       " '黄飞鸿之铁鸡斗蜈蚣',\n",
       " '黄飞鸿之二男儿当自强',\n",
       " 'The One',\n",
       " 'The Expendables 3',\n",
       " '少林真功夫',\n",
       " 'Kiss of the Dragon',\n",
       " 'Ultimate Fights from the Movies',\n",
       " 'Zhong hua ying xiong',\n",
       " 'Fong Sai Yuk juk jaap',\n",
       " 'The Expendables',\n",
       " 'Hong Xi Guan: Zhi Shao Lin wu zu',\n",
       " '龙在天涯',\n",
       " 'Mao xian wang',\n",
       " '霍元甲',\n",
       " \"Inferno: The Making of 'The Expendables'\",\n",
       " '给爸爸的信',\n",
       " 'The Mummy: Tomb of the Dragon Emperor',\n",
       " '不二神探',\n",
       " 'Shao Lin xiao zi',\n",
       " 'Zhong Nan Hai bao biao',\n",
       " '白蛇传说',\n",
       " 'Gong Shou Dao',\n",
       " 'The Expendables 2',\n",
       " '鼠胆龙威',\n",
       " 'Lethal Weapon 4',\n",
       " 'Eastern Heroes: The Video Magazine - Volume 2',\n",
       " '南北少林',\n",
       " 'Jing wu ying xiong',\n",
       " 'Chop Socky: Cinema Hong Kong',\n",
       " '黄飞鸿',\n",
       " '太极张三丰',\n",
       " 'Dragons of the Orient',\n",
       " '黄飞鸿之西域雄狮',\n",
       " 'Top Fighter',\n",
       " '海洋天堂',\n",
       " '方世玉',\n",
       " 'The Forbidden Kingdom',\n",
       " '笑傲江湖II东方不败',\n",
       " 'Shao Lin Si',\n",
       " '封神传奇',\n",
       " '龙行天下',\n",
       " 'Romeo Must Die',\n",
       " '建国大业',\n",
       " '倚天屠龙记之魔教教主',\n",
       " '龙门飞甲',\n",
       " 'Unleashed',\n",
       " 'War',\n",
       " 'Cradle 2 the Grave']"
      ]
     },
     "execution_count": 9,
     "metadata": {},
     "output_type": "execute_result"
    }
   ],
   "source": [
    "#7:nnt 电影作品\n",
    "def get_answer_7(words, flags):\n",
    "    actor_name = words[flags.index('nr')]\n",
    "    cql = \"match(n:Person)-[]->(m:Movie) where n.name='%s' return m.title\" % actor_name\n",
    "    result = graph.run(cql)\n",
    "    return [i.get('m.title') for i in result]\n",
    "\n",
    "\n",
    "words, flags = parse_text('李连杰演过什么电影')\n",
    "\n",
    "get_answer_7(words, flags)"
   ]
  },
  {
   "cell_type": "code",
   "execution_count": 10,
   "id": "0197cdc6",
   "metadata": {},
   "outputs": [
    {
     "name": "stdout",
     "output_type": "stream",
     "text": [
      "pred_label= 3\n"
     ]
    },
    {
     "data": {
      "text/html": [
       "<table><tr><th>m.introduction</th></tr><tr><td style=\"text-align:left\">张翠山（吴镇宇 饰）携妻及子张无忌（李连杰 饰）从孤岛出发赶去给其师父贺百岁大寿的途中，被人暗算，张无忌中寒冰掌。在武当山，张翠山和妻子被各大门派逼迫致死，张无忌也不再能练习武功，只能靠张三丰每日所输真气得以残活。张三丰的举动引来宋青书（邹兆龙 饰）的妒忌，他联合了峨眉女弟子周芷若（黎姿 饰）共同对付张无 忌。明教圣女小昭（邱淑贞 饰）令张无忌改变命运，使其先在断崖上遇到高人治好体内寒冰毒、学会九成“九阳神功”，又在明教禁地练得“乾坤大挪移心法”。得知蒙古郡主赵敏（张敏 饰）设计令江湖六大派围攻光明顶想歼灭明教时，张无忌决意为拯救明教赴汤蹈火</td></tr></table>"
      ],
      "text/plain": [
       " m.introduction                                                                                                                                                                                                                                                                     \n",
       "------------------------------------------------------------------------------------------------------------------------------------------------------------------------------------------------------------------------------------------------------------------------------------\n",
       " 张翠山（吴镇宇 饰）携妻及子张无忌（李连杰 饰）从孤岛出发赶去给其师父贺百岁大寿的途中，被人暗算，张无忌中寒冰掌。在武当山，张翠山和妻子被各大门派逼迫致死，张无忌也不再能练习武功，只能靠张三丰每日所输真气得以残活。张三丰的举动引来宋青书（邹兆龙 饰）的妒忌，他联合了峨眉女弟子周芷若（黎姿 饰）共同对付张无 忌。明教圣女小昭（邱淑贞 饰）令张无忌改变命运，使其先在断崖上遇到高人治好体内寒冰毒、学会九成“九阳神功”，又在明教禁地练得“乾坤大挪移心法”。得知蒙古郡主赵敏（张敏 饰）设计令江湖六大派围攻光明顶想歼灭明教时，张无忌决意为拯救明教赴汤蹈火 "
      ]
     },
     "execution_count": 10,
     "metadata": {},
     "output_type": "execute_result"
    }
   ],
   "source": [
    "def get_answer(question):\n",
    "    words, flags = parse_text(question)\n",
    "\n",
    "    pred_label = predict(words, flags)\n",
    "\n",
    "    print('pred_label=', pred_label)\n",
    "\n",
    "    func = {\n",
    "        3: get_answer_3,\n",
    "        4: get_answer_4,\n",
    "        5: get_answer_5,\n",
    "        7: get_answer_7\n",
    "    }[pred_label]\n",
    "\n",
    "    return func(words, flags)\n",
    "\n",
    "\n",
    "get_answer('倚天屠龙记之魔教教主是讲什么的')"
   ]
  }
 ],
 "metadata": {
  "kernelspec": {
   "display_name": "Python 3 (ipykernel)",
   "language": "python",
   "name": "python3"
  },
  "language_info": {
   "codemirror_mode": {
    "name": "ipython",
    "version": 3
   },
   "file_extension": ".py",
   "mimetype": "text/x-python",
   "name": "python",
   "nbconvert_exporter": "python",
   "pygments_lexer": "ipython3",
   "version": "3.9.15"
  }
 },
 "nbformat": 4,
 "nbformat_minor": 5
}
