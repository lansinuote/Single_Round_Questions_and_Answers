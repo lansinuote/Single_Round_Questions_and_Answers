{
 "cells": [
  {
   "cell_type": "code",
   "execution_count": 2,
   "id": "159fa29a",
   "metadata": {},
   "outputs": [
    {
     "name": "stdout",
     "output_type": "stream",
     "text": [
      "[[0. 1. 2. 3.]\n",
      " [1. 1. 1. 2.]\n",
      " [2. 2. 1. 2.]\n",
      " [3. 3. 2. 2.]]\n"
     ]
    },
    {
     "data": {
      "text/plain": [
       "2.0"
      ]
     },
     "execution_count": 2,
     "metadata": {},
     "output_type": "execute_result"
    }
   ],
   "source": [
    "import numpy as np\n",
    "\n",
    "\n",
    "def edit_distance(s1, s2):\n",
    "    #s1决定行数,s2决定列数\n",
    "    #这个矩阵中记录的是两个字符串交叉的编辑距离\n",
    "    #所以[0,0]肯定是0,因为这个位置表示的是连个空串,当然编辑距离是0\n",
    "    #相对应的[-1,-1]表示的就是两个字符串完整的编辑距离\n",
    "    #中间的数字,则是两个字符串相互截断的编辑距离\n",
    "    dist = np.zeros((len(s1) + 1, len(s2) + 1))\n",
    "\n",
    "    #遍历所有行和列\n",
    "    for row in range(dist.shape[0]):\n",
    "        for col in range(dist.shape[1]):\n",
    "\n",
    "            #第0行和第0列是自增数列\n",
    "            #这是显而易见的,因为这意味着其中一个字符串是空串\n",
    "            #所以编辑距离取决于另外一个字符串的长度\n",
    "            if min(row, col) == 0:\n",
    "                dist[row, col] = max(row, col)\n",
    "\n",
    "            #row和col两者皆不为0的情况,意味着两个字符串都有内容\n",
    "            #这时可以比较每个字符的内容\n",
    "            #如果相等,这时编辑距离等于上一个字母的编辑距离,所以编辑距离会累积\n",
    "            elif s1[row - 1] == s2[col - 1]:\n",
    "                dist[row, col] = dist[row - 1, col - 1]\n",
    "\n",
    "            #如果不相等,这时查找三种修改方法中最短的修改,并加1\n",
    "            else:\n",
    "                d1 = dist[row - 1, col - 1]\n",
    "                d2 = dist[row, col - 1]\n",
    "                d3 = dist[row - 1, col]\n",
    "                dist[row, col] = min(d1, d2, d3) + 1\n",
    "\n",
    "    print(dist)\n",
    "\n",
    "    return dist[-1, -1]\n",
    "\n",
    "\n",
    "edit_distance('aaa', 'bab')"
   ]
  }
 ],
 "metadata": {
  "kernelspec": {
   "display_name": "Python 3 (ipykernel)",
   "language": "python",
   "name": "python3"
  },
  "language_info": {
   "codemirror_mode": {
    "name": "ipython",
    "version": 3
   },
   "file_extension": ".py",
   "mimetype": "text/x-python",
   "name": "python",
   "nbconvert_exporter": "python",
   "pygments_lexer": "ipython3",
   "version": "3.9.15"
  }
 },
 "nbformat": 4,
 "nbformat_minor": 5
}
