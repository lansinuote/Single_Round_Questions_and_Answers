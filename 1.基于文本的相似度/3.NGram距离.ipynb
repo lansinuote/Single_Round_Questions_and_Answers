{
 "cells": [
  {
   "cell_type": "code",
   "execution_count": 1,
   "id": "ead5be52",
   "metadata": {},
   "outputs": [
    {
     "data": {
      "text/plain": [
       "['A c',\n",
       " ' ca',\n",
       " 'cat',\n",
       " 'at ',\n",
       " 't s',\n",
       " ' sa',\n",
       " 'sat',\n",
       " 'at ',\n",
       " 't o',\n",
       " ' on',\n",
       " 'on ',\n",
       " 'n a',\n",
       " ' a ',\n",
       " 'a m',\n",
       " ' ma',\n",
       " 'mat',\n",
       " 'at.']"
      ]
     },
     "execution_count": 1,
     "metadata": {},
     "output_type": "execute_result"
    }
   ],
   "source": [
    "def get_cut(sent, N):\n",
    "    cut = []\n",
    "    for i in range(len(sent) - N + 1):\n",
    "        cut.append(sent[i:i + N])\n",
    "    return cut\n",
    "\n",
    "\n",
    "get_cut('A cat sat on a mat.', 3)"
   ]
  },
  {
   "cell_type": "code",
   "execution_count": 2,
   "id": "e1ce3d50",
   "metadata": {},
   "outputs": [
    {
     "data": {
      "text/plain": [
       "(0.4166666666666667, 1.0555555555555556)"
      ]
     },
     "execution_count": 2,
     "metadata": {},
     "output_type": "execute_result"
    }
   ],
   "source": [
    "def diff_ngram(sent_a, sent_b, N):\n",
    "    cut_a = get_cut(sent_a, N)\n",
    "    cut_b = get_cut(sent_b, N)\n",
    "\n",
    "    fenzi = 0\n",
    "    for word_a in cut_a:\n",
    "        for word_b in cut_b:\n",
    "            if word_a == word_b:\n",
    "                fenzi += 1\n",
    "\n",
    "    fenmu = max(len(cut_a), len(cut_b))\n",
    "\n",
    "    return fenzi / fenmu\n",
    "\n",
    "\n",
    "s1 = 'A cat sat on a mat.'\n",
    "s2 = 'A cat sining in the rain.'\n",
    "s3 = 'A dog sat on a mat.'\n",
    "\n",
    "diff_ngram(s1, s2, 2), diff_ngram(s1, s3, 2)"
   ]
  },
  {
   "cell_type": "code",
   "execution_count": 3,
   "id": "0ebc0b2d",
   "metadata": {},
   "outputs": [
    {
     "data": {
      "text/plain": [
       "(0.2608695652173913, 1.4444444444444444)"
      ]
     },
     "execution_count": 3,
     "metadata": {},
     "output_type": "execute_result"
    }
   ],
   "source": [
    "diff_ngram(s1, s2, 3), diff_ngram(s1, s1, 2)"
   ]
  }
 ],
 "metadata": {
  "kernelspec": {
   "display_name": "Python 3 (ipykernel)",
   "language": "python",
   "name": "python3"
  },
  "language_info": {
   "codemirror_mode": {
    "name": "ipython",
    "version": 3
   },
   "file_extension": ".py",
   "mimetype": "text/x-python",
   "name": "python",
   "nbconvert_exporter": "python",
   "pygments_lexer": "ipython3",
   "version": "3.9.15"
  }
 },
 "nbformat": 4,
 "nbformat_minor": 5
}
