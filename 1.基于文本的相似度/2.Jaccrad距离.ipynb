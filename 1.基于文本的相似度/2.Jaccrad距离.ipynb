{
 "cells": [
  {
   "cell_type": "code",
   "execution_count": 1,
   "id": "e516adb9",
   "metadata": {},
   "outputs": [
    {
     "data": {
      "text/plain": [
       "0.6"
      ]
     },
     "execution_count": 1,
     "metadata": {},
     "output_type": "execute_result"
    }
   ],
   "source": [
    "def Jaccrad(s1, s2):\n",
    "    #分词\n",
    "    s1 = s1.split(' ')\n",
    "    s2 = s2.split(' ')\n",
    "\n",
    "    #去重\n",
    "    s2 = set(s2)\n",
    "    s1 = set(s1)\n",
    "\n",
    "    #并集数量\n",
    "    bing = len(s1 & s2)\n",
    "\n",
    "    #交集数量\n",
    "    jiao = len(s1 | s2)\n",
    "\n",
    "    #Jaccard距离\n",
    "    return bing / jiao\n",
    "\n",
    "\n",
    "Jaccrad('aa bb cc dd', 'aa bb cc ee')"
   ]
  }
 ],
 "metadata": {
  "kernelspec": {
   "display_name": "Python 3 (ipykernel)",
   "language": "python",
   "name": "python3"
  },
  "language_info": {
   "codemirror_mode": {
    "name": "ipython",
    "version": 3
   },
   "file_extension": ".py",
   "mimetype": "text/x-python",
   "name": "python",
   "nbconvert_exporter": "python",
   "pygments_lexer": "ipython3",
   "version": "3.9.15"
  }
 },
 "nbformat": 4,
 "nbformat_minor": 5
}
