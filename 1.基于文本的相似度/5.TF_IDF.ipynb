{
 "cells": [
  {
   "cell_type": "code",
   "execution_count": 1,
   "id": "a9191b83",
   "metadata": {
    "scrolled": true
   },
   "outputs": [
    {
     "data": {
      "text/plain": [
       "([['aa', 'bb', 'cc'],\n",
       "  ['aa', 'bb', 'cc', 'dd'],\n",
       "  ['aa', 'bb', 'cc', 'ee'],\n",
       "  ['aa', 'bb', 'cc', 'ee', 'ee']],\n",
       " ['aa', 'bb', 'cc', 'dd', 'ee'])"
      ]
     },
     "execution_count": 1,
     "metadata": {},
     "output_type": "execute_result"
    }
   ],
   "source": [
    "def init():\n",
    "    #所有文档\n",
    "    docs = [\n",
    "        'aa bb cc',\n",
    "        'aa bb cc dd',\n",
    "        'aa bb cc ee',\n",
    "        'aa bb cc ee ee',\n",
    "    ]\n",
    "\n",
    "    #分词\n",
    "    docs = [i.split(' ') for i in docs]\n",
    "\n",
    "    #初始化字典\n",
    "    words = []\n",
    "    for doc in docs:\n",
    "        for word in doc:\n",
    "            if word not in words:\n",
    "                words.append(word)\n",
    "\n",
    "    return docs, words\n",
    "\n",
    "\n",
    "docs, words = init()\n",
    "\n",
    "docs, words"
   ]
  },
  {
   "cell_type": "code",
   "execution_count": 2,
   "id": "ac796956",
   "metadata": {},
   "outputs": [
    {
     "data": {
      "text/plain": [
       "array([[0.33333333, 0.33333333, 0.33333333, 0.        , 0.        ],\n",
       "       [0.25      , 0.25      , 0.25      , 0.25      , 0.        ],\n",
       "       [0.25      , 0.25      , 0.25      , 0.        , 0.25      ],\n",
       "       [0.2       , 0.2       , 0.2       , 0.        , 0.4       ]])"
      ]
     },
     "execution_count": 2,
     "metadata": {},
     "output_type": "execute_result"
    }
   ],
   "source": [
    "import numpy as np\n",
    "\n",
    "\n",
    "def get_tf():\n",
    "    tf = np.zeros([len(docs), len(words)])\n",
    "\n",
    "    #计算词频\n",
    "    for i, doc in enumerate(docs):\n",
    "        for word in doc:\n",
    "            j = words.index(word)\n",
    "            tf[i, j] += 1\n",
    "\n",
    "    #tf = 词频 / 句子长度\n",
    "    for i, doc in enumerate(docs):\n",
    "        tf[i] /= len(doc)\n",
    "\n",
    "    return tf\n",
    "\n",
    "\n",
    "tf = get_tf()\n",
    "\n",
    "tf"
   ]
  },
  {
   "cell_type": "code",
   "execution_count": 3,
   "id": "0988a2ef",
   "metadata": {},
   "outputs": [
    {
     "data": {
      "text/plain": [
       "array([0.        , 0.        , 0.        , 1.38629436, 0.69314718])"
      ]
     },
     "execution_count": 3,
     "metadata": {},
     "output_type": "execute_result"
    }
   ],
   "source": [
    "def get_idf():\n",
    "    idf = np.zeros([len(words)])\n",
    "\n",
    "    #求每个词出现的文档数\n",
    "    for i, word in enumerate(words):\n",
    "        idf[i] = sum([1 for doc in docs if word in doc])\n",
    "\n",
    "    #文档总数除以每个词出现的文档数\n",
    "    #相当于求每个词的代表能力,这个数最小是1,最大是文档数量\n",
    "    idf = len(docs) / idf\n",
    "\n",
    "    #idf是非负的,并且>=1,取对数后最小是0\n",
    "    idf = np.log(idf)\n",
    "\n",
    "    return idf\n",
    "\n",
    "\n",
    "idf = get_idf()\n",
    "\n",
    "idf"
   ]
  },
  {
   "cell_type": "code",
   "execution_count": 4,
   "id": "3570c970",
   "metadata": {},
   "outputs": [
    {
     "data": {
      "text/plain": [
       "array([[0.        , 0.        , 0.        , 0.        , 0.        ],\n",
       "       [0.        , 0.        , 0.        , 0.34657359, 0.        ],\n",
       "       [0.        , 0.        , 0.        , 0.        , 0.1732868 ],\n",
       "       [0.        , 0.        , 0.        , 0.        , 0.27725887]])"
      ]
     },
     "execution_count": 4,
     "metadata": {},
     "output_type": "execute_result"
    }
   ],
   "source": [
    "#综合考虑tf和idf,得到每个词对应每个文档的代表能力\n",
    "tf_idf = tf * idf\n",
    "\n",
    "tf_idf"
   ]
  }
 ],
 "metadata": {
  "kernelspec": {
   "display_name": "Python 3 (ipykernel)",
   "language": "python",
   "name": "python3"
  },
  "language_info": {
   "codemirror_mode": {
    "name": "ipython",
    "version": 3
   },
   "file_extension": ".py",
   "mimetype": "text/x-python",
   "name": "python",
   "nbconvert_exporter": "python",
   "pygments_lexer": "ipython3",
   "version": "3.9.15"
  }
 },
 "nbformat": 4,
 "nbformat_minor": 5
}
