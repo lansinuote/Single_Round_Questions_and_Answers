{
 "cells": [
  {
   "cell_type": "code",
   "execution_count": 9,
   "id": "2ed52bbb",
   "metadata": {},
   "outputs": [
    {
     "data": {
      "text/plain": [
       "4"
      ]
     },
     "execution_count": 9,
     "metadata": {},
     "output_type": "execute_result"
    }
   ],
   "source": [
    "def hamming_distance(s1, s2):\n",
    "    dist = sum(c1 != c2 for c1, c2 in zip(s1, s2))\n",
    "\n",
    "    dist += abs(len(s1) - len(s2))\n",
    "\n",
    "    return dist\n",
    "\n",
    "\n",
    "hamming_distance('aaa', 'abbcc')"
   ]
  }
 ],
 "metadata": {
  "kernelspec": {
   "display_name": "Python 3 (ipykernel)",
   "language": "python",
   "name": "python3"
  },
  "language_info": {
   "codemirror_mode": {
    "name": "ipython",
    "version": 3
   },
   "file_extension": ".py",
   "mimetype": "text/x-python",
   "name": "python",
   "nbconvert_exporter": "python",
   "pygments_lexer": "ipython3",
   "version": "3.9.15"
  }
 },
 "nbformat": 4,
 "nbformat_minor": 5
}
